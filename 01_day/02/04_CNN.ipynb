{
 "cells": [
  {
   "cell_type": "markdown",
   "metadata": {
    "id": "4251msKcyU-t"
   },
   "source": [
    "\n",
    "# Lecture 03. CNN Basic\n",
    "\n",
    "### Contents :\n",
    "\n",
    "   1. Lecture 03 Overview <br>\n",
    "      1.1. Importing the MNIST Dataset <br>\n",
    "      1.2. Importing libraries <br>\n",
    "\n",
    "   2. Preprocessing the training dataset <br>\n",
    "\n",
    "   3. Building and compiling the model<br>\n",
    "\n",
    "   4. Training the model <br>\n",
    "\n",
    "   5. Testing the model <br>\n",
    "\n",
    "\n",
    "  "
   ]
  },
  {
   "cell_type": "markdown",
   "metadata": {
    "id": "S4dHH4m-zxRC"
   },
   "source": [
    "# 1. Lecture 03 Overview\n",
    "\n",
    "This lecture aims to explore the basics of CNN.<br>\n",
    "The intended learning outcomes are:<br>\n",
    "*   Importing and preprocessing datasets\n",
    "*   Building, training and testing a simple model"
   ]
  },
  {
   "cell_type": "markdown",
   "metadata": {
    "id": "HWCJjpQw-s7-"
   },
   "source": [
    "## 1.1 Importing the MNIST Dataset"
   ]
  },
  {
   "cell_type": "code",
   "execution_count": 1,
   "metadata": {
    "colab": {
     "base_uri": "https://localhost:8080/"
    },
    "id": "K9Znvxwt9ynD",
    "outputId": "f1c1ff59-5455-434d-986c-c4ec840f4525"
   },
   "outputs": [
    {
     "name": "stdout",
     "output_type": "stream",
     "text": [
      "\u001b[33mWARNING: The directory '/home/linux/.cache/pip' or its parent directory is not owned or is not writable by the current user. The cache has been disabled. Check the permissions and owner of that directory. If executing pip with sudo, you should use sudo's -H flag.\u001b[0m\n",
      "Collecting mnist\n",
      "  Downloading mnist-0.2.2-py2.py3-none-any.whl (3.5 kB)\n",
      "Requirement already satisfied: numpy in /usr/local/lib/python3.6/dist-packages (from mnist) (1.19.5)\n",
      "Installing collected packages: mnist\n",
      "Successfully installed mnist-0.2.2\n",
      "\u001b[33mWARNING: Running pip as the 'root' user can result in broken permissions and conflicting behaviour with the system package manager. It is recommended to use a virtual environment instead: https://pip.pypa.io/warnings/venv\u001b[0m\n",
      "CPU times: user 331 ms, sys: 30.9 ms, total: 362 ms\n",
      "Wall time: 27.6 s\n"
     ]
    }
   ],
   "source": [
    "%%time\n",
    "!pip3 install mnist"
   ]
  },
  {
   "cell_type": "markdown",
   "metadata": {
    "id": "tJd6gyRF-kaR"
   },
   "source": [
    "## 1.2 Importing libraries"
   ]
  },
  {
   "cell_type": "code",
   "execution_count": 2,
   "metadata": {
    "colab": {
     "base_uri": "https://localhost:8080/"
    },
    "id": "ihHmGBL5-Evu",
    "outputId": "60955939-97bc-49b3-972e-10d7bb0e99c2"
   },
   "outputs": [
    {
     "name": "stdout",
     "output_type": "stream",
     "text": [
      "CPU times: user 1.99 s, sys: 109 ms, total: 2.1 s\n",
      "Wall time: 2.38 s\n"
     ]
    }
   ],
   "source": [
    "%%time\n",
    "\n",
    "import matplotlib.pyplot as plt\n",
    "import mnist\n",
    "import numpy as np\n",
    "import tensorflow as tf\n",
    "from tensorflow.keras.layers import Conv2D, Dense, Flatten, MaxPooling2D, BatchNormalization, Dropout\n",
    "from tensorflow.keras.models import Model, Sequential\n",
    "from tensorflow.keras.utils import to_categorical"
   ]
  },
  {
   "cell_type": "markdown",
   "metadata": {
    "id": "1cGecRVa_PtK"
   },
   "source": [
    "# 2. Preprocessing the training dataset\n"
   ]
  },
  {
   "cell_type": "code",
   "execution_count": 3,
   "metadata": {
    "colab": {
     "base_uri": "https://localhost:8080/",
     "height": 515
    },
    "id": "z3HGA95T9qAh",
    "outputId": "8e7506f7-bae8-45ca-acd9-b391a2b27093"
   },
   "outputs": [
    {
     "name": "stdout",
     "output_type": "stream",
     "text": [
      "(60000, 28, 28, 1)\n",
      "(60000,)\n"
     ]
    },
    {
     "data": {
      "image/png": "[encoded data removed]",
      "text/plain": [
       "<Figure size 1440x1440 with 10 Axes>"
      ]
     },
     "metadata": {
      "needs_background": "light"
     },
     "output_type": "display_data"
    }
   ],
   "source": [
    "# %%time\n",
    "\n",
    "# Loading the dataset\n",
    "train_images = mnist.train_images()\n",
    "train_labels = mnist.train_labels()\n",
    "test_images = mnist.test_images()\n",
    "test_labels = mnist.test_labels()\n",
    "\n",
    "# plt.figure (figsize = (integer_x, integer_y)) sets the size of the figure which displays the image\n",
    "plt.figure(figsize=(20,20))\n",
    "# Printing the entire data set is inefficient. Select a few samples (~10) and plot\n",
    "for idx in range(10):\n",
    "    # ax = plt.subplot (number_of_rows, number_of_columns, index) creates subplots for the figure\n",
    "    ax = plt.subplot(5,5,idx+1)\n",
    "    # plt.imshow() prints the image to the designated subplot\n",
    "    plt.imshow(test_images[idx])\n",
    "    # When viewing image data, the axes are unnecessary. However the default option displays the axes. Therefore, disable it.\n",
    "    plt.axis('off')\n",
    "\n",
    "# To train the model, we need to preprocess the data (Normalization in the example below). Since the pixel intensity value must be between 0 and 1, divide all values by 255 and set as ___.astype('float32')\n",
    "train_images = (train_images / 255) \n",
    "test_images = (test_images / 255) \n",
    "\n",
    "# The Keras model is optimized to make predictions in batches of samples at a time. Even when using a single image, you need to create a two-dimensional array using np.expand_dims(___)\n",
    "train_images = np.expand_dims(train_images, axis=3)\n",
    "test_images = np.expand_dims(test_images, axis=3)\n",
    "\n",
    "# Check the number of columns and rows of data (shape) using ___.shape\n",
    "print(train_images.shape) # (60000, 28, 28, 1)\n",
    "print(train_labels.shape) # (60000,)\n",
    "\n"
   ]
  },
  {
   "cell_type": "markdown",
   "metadata": {
    "id": "kxEM52GXAD10"
   },
   "source": [
    "# 3. Building and compiling the model"
   ]
  },
  {
   "cell_type": "code",
   "execution_count": 4,
   "metadata": {
    "colab": {
     "base_uri": "https://localhost:8080/"
    },
    "id": "u2EP3AV5_-fR",
    "outputId": "fd481159-7bd0-4118-c301-ae6314e7f279"
   },
   "outputs": [
    {
     "name": "stdout",
     "output_type": "stream",
     "text": [
      "Model: \"Simple-CNN\"\n",
      "_________________________________________________________________\n",
      "Layer (type)                 Output Shape              Param #   \n",
      "=================================================================\n",
      "conv2d (Conv2D)              (None, 28, 28, 8)         80        \n",
      "_________________________________________________________________\n",
      "max_pooling2d (MaxPooling2D) (None, 14, 14, 8)         0         \n",
      "_________________________________________________________________\n",
      "conv2d_1 (Conv2D)            (None, 12, 12, 16)        1168      \n",
      "_________________________________________________________________\n",
      "max_pooling2d_1 (MaxPooling2 (None, 6, 6, 16)          0         \n",
      "_________________________________________________________________\n",
      "conv2d_2 (Conv2D)            (None, 4, 4, 16)          2320      \n",
      "_________________________________________________________________\n",
      "flatten (Flatten)            (None, 256)               0         \n",
      "_________________________________________________________________\n",
      "dense (Dense)                (None, 64)                16448     \n",
      "_________________________________________________________________\n",
      "dense_1 (Dense)              (None, 10)                650       \n",
      "=================================================================\n",
      "Total params: 20,666\n",
      "Trainable params: 20,666\n",
      "Non-trainable params: 0\n",
      "_________________________________________________________________\n",
      "CPU times: user 116 ms, sys: 987 µs, total: 117 ms\n",
      "Wall time: 213 ms\n"
     ]
    }
   ],
   "source": [
    "%%time\n",
    "\n",
    "# Models can be built using the structure below\n",
    "model = Sequential(name=\"Simple-CNN\")\n",
    "\n",
    "# The following Conv2D (Convolution) layer is set to: 8 filters, 3x3 kernel size with ReLU as its activation function.\n",
    "model.add(Conv2D(filters=8, kernel_size=(3, 3), padding=\"same\", activation='relu', input_shape=(28, 28, 1)))\n",
    "# Maxpooling is an operation to reduce the complex structure by passing only the largest value among the results derived from the convolution layer to the next layer and discarding the rest.\n",
    "# Downsample the input expression using the maximum value in the window defined as pool_size for each dimension along the feature axis.\n",
    "model.add(MaxPooling2D(pool_size=(2, 2)))\n",
    "\n",
    "model.add(Conv2D(filters=16, kernel_size=(3, 3), activation='relu'))\n",
    "model.add(MaxPooling2D(pool_size=(2, 2)))\n",
    "\n",
    "model.add(Conv2D(filters=16, kernel_size=(3, 3), activation='relu'))\n",
    "\n",
    "# Convert the image format from a two-dimensional array to a one-dimensional array that can be interpreted by the model.\n",
    "model.add(Flatten())\n",
    "# The following Dense layer contains 64 neurons with the activation function set to sigmoid.\n",
    "model.add(Dense(64, activation='sigmoid'))\n",
    "# The following Dense layer contains 10 neurons with the activation function set to softmax.\n",
    "model.add(Dense(10, activation='softmax'))\n",
    "\n",
    "\n",
    "# Before training the model, it must be compiled using model.compile(optimizer='', loss='', metrics=[''])\n",
    "# Optimizer — How the model is updated based on the data displayed and the loss function\n",
    "# Loss Function — Measures how accurate the model is during training. Try to \"tune\" the model in the right direction by minimizing this feature\n",
    "# Metrics — Used to monitor training and testing steps. For example, you can use accuracy that is part of a correctly classified image.\n",
    "\n",
    "# The model can be compiled using the following code\n",
    "model.compile(\n",
    "    optimizer= 'adam',\n",
    "    # Categorical crossentropy is a loss function mainly used in multiple classification problems.\n",
    "    loss='categorical_crossentropy',\n",
    "    metrics=['accuracy'],\n",
    ")\n",
    "\n",
    "\n",
    "model.summary()"
   ]
  },
  {
   "cell_type": "markdown",
   "metadata": {
    "id": "JRCSRWvEAhjl"
   },
   "source": [
    "# 4. Training the model"
   ]
  },
  {
   "cell_type": "code",
   "execution_count": null,
   "metadata": {
    "colab": {
     "base_uri": "https://localhost:8080/"
    },
    "id": "6Q0_YSPcAg0X",
    "outputId": "c42546f3-411a-4daf-ea64-f35574a96495"
   },
   "outputs": [
    {
     "name": "stdout",
     "output_type": "stream",
     "text": [
      "Epoch 1/10\n",
      "1875/1875 [==============================] - 40s 21ms/step - loss: 0.2857 - accuracy: 0.9216 - val_loss: 0.0888 - val_accuracy: 0.9732\n",
      "Epoch 2/10\n",
      "1875/1875 [==============================] - 37s 19ms/step - loss: 0.0787 - accuracy: 0.9771 - val_loss: 0.0585 - val_accuracy: 0.9819\n",
      "Epoch 3/10\n",
      "1875/1875 [==============================] - 34s 18ms/step - loss: 0.0526 - accuracy: 0.9845 - val_loss: 0.0563 - val_accuracy: 0.9826\n",
      "Epoch 4/10\n",
      "1875/1875 [==============================] - 34s 18ms/step - loss: 0.0421 - accuracy: 0.9870 - val_loss: 0.0407 - val_accuracy: 0.9869\n",
      "Epoch 5/10\n",
      "1875/1875 [==============================] - 35s 19ms/step - loss: 0.0334 - accuracy: 0.9900 - val_loss: 0.0346 - val_accuracy: 0.9894\n",
      "Epoch 6/10\n",
      "1875/1875 [==============================] - 34s 18ms/step - loss: 0.0284 - accuracy: 0.9912 - val_loss: 0.0396 - val_accuracy: 0.9878\n",
      "Epoch 7/10\n",
      "1875/1875 [==============================] - 34s 18ms/step - loss: 0.0239 - accuracy: 0.9928 - val_loss: 0.0360 - val_accuracy: 0.9886\n",
      "Epoch 8/10\n",
      "1875/1875 [==============================] - 35s 19ms/step - loss: 0.0197 - accuracy: 0.9941 - val_loss: 0.0351 - val_accuracy: 0.9890\n",
      "Epoch 9/10\n",
      " 313/1875 [====>.........................] - ETA: 27s - loss: 0.0175 - accuracy: 0.9944"
     ]
    }
   ],
   "source": [
    "%%time\n",
    "\n",
    "# Training the model\n",
    "model.fit(\n",
    "    train_images,\n",
    "    # Convert the label into categorical data\n",
    "    to_categorical(train_labels),\n",
    "    # Train using the data 10 times.\n",
    "    epochs=10,\n",
    "    # We pass some validation for monitoring validation loss and metrics at the end of each epoch\n",
    "    validation_data=(test_images, to_categorical(test_labels))\n",
    ")\n",
    "\n",
    "model.save_weights('cnn.h5')\n",
    "#model.load_weights('cnn.h5')\n"
   ]
  },
  {
   "cell_type": "markdown",
   "metadata": {
    "id": "uMVhw02YBkf1"
   },
   "source": [
    "# 5. Testing the model"
   ]
  },
  {
   "cell_type": "code",
   "execution_count": null,
   "metadata": {
    "colab": {
     "base_uri": "https://localhost:8080/"
    },
    "id": "yCC-CWjDBj7N",
    "outputId": "8037296e-b39f-4d07-8db1-67cd733cf597"
   },
   "outputs": [],
   "source": [
    "# Using the model to validate/predict the first 10 images\n",
    "predictions = model.predict(test_images[:10])\n",
    "\n",
    "# [7, 2, 1, 0, 4]\n",
    "print(test_labels[:10])\n",
    "print(np.argmax(predictions, axis=1))\n",
    "print(predictions[0])"
   ]
  }
 ],
 "metadata": {
  "accelerator": "GPU",
  "colab": {
   "collapsed_sections": [],
   "name": "Day1_L03 - CNN_basic.ipynb",
   "provenance": [],
   "toc_visible": true
  },
  "kernelspec": {
   "display_name": "Python 3",
   "language": "python",
   "name": "python3"
  },
  "language_info": {
   "codemirror_mode": {
    "name": "ipython",
    "version": 3
   },
   "file_extension": ".py",
   "mimetype": "text/x-python",
   "name": "python",
   "nbconvert_exporter": "python",
   "pygments_lexer": "ipython3",
   "version": "3.6.9"
  }
 },
 "nbformat": 4,
 "nbformat_minor": 1
}
